{
 "cells": [
  {
   "cell_type": "code",
   "execution_count": 5,
   "metadata": {},
   "outputs": [],
   "source": [
    "from __future__ import annotations\n",
    "import random\n",
    "from collections import deque\n",
    "import gymnasium as gym\n",
    "import numpy as np\n",
    "import torch\n",
    "import torch.nn as nn\n",
    "import torch.optim as optim\n",
    "import PIL.Image"
   ]
  },
  {
   "cell_type": "code",
   "execution_count": 6,
   "metadata": {},
   "outputs": [],
   "source": [
    "env=gym.make('CartPole-v1' ,render_mode=\"rgb_array\")"
   ]
  },
  {
   "cell_type": "code",
   "execution_count": 7,
   "metadata": {},
   "outputs": [
    {
     "data": {
      "image/jpeg": "[encoded data removed]",
      "image/png": "[encoded data removed]",
      "text/plain": [
       "<PIL.Image.Image image mode=RGB size=600x400>"
      ]
     },
     "execution_count": 7,
     "metadata": {},
     "output_type": "execute_result"
    }
   ],
   "source": [
    "env.reset()\n",
    "PIL.Image.fromarray(env.render())"
   ]
  },
  {
   "cell_type": "code",
   "execution_count": 8,
   "metadata": {},
   "outputs": [
    {
     "name": "stdout",
     "output_type": "stream",
     "text": [
      "state size: (4,) action:2\n"
     ]
    }
   ],
   "source": [
    "state_size=env.observation_space.shape\n",
    "num_action=env.action_space.n\n",
    "print(f\"state size: {state_size} action:{num_action}\" )"
   ]
  },
  {
   "cell_type": "code",
   "execution_count": 9,
   "metadata": {},
   "outputs": [
    {
     "data": {
      "text/plain": [
       "(array([ 0.03287384,  0.04384588, -0.03856589, -0.02038275], dtype=float32),\n",
       " {})"
      ]
     },
     "execution_count": 9,
     "metadata": {},
     "output_type": "execute_result"
    }
   ],
   "source": [
    "init_state=env.reset()\n",
    "init_state"
   ]
  },
  {
   "cell_type": "code",
   "execution_count": 10,
   "metadata": {},
   "outputs": [],
   "source": [
    "def load_environment(training=True):\n",
    "    env = gym.make(\n",
    "        \"CartPole-v1\",\n",
    "        render_mode=None if training else \"human\",\n",
    "    )\n",
    "    return env, env.observation_space.shape[0], env.action_space.n\n",
    "\n",
    "def epsilon_decay(epsilon, epsilon_min, decay_method: callable):\n",
    "    return max(epsilon_min, decay_method(epsilon))\n",
    "\n",
    "def epsilon_greedy(env, policy_dqn, state, epsilon, device):\n",
    "    if random.random() < epsilon:\n",
    "        # Explore\n",
    "        return env.action_space.sample()\n",
    "    else:\n",
    "        # Exploit\n",
    "        state = torch.FloatTensor(state).unsqueeze(0).to(device)\n",
    "        with torch.no_grad():\n",
    "            q_values = policy_dqn(state)\n",
    "        return q_values.argmax().item()"
   ]
  },
  {
   "cell_type": "code",
   "execution_count": 11,
   "metadata": {},
   "outputs": [],
   "source": [
    "\"\"\"\n",
    "DQN is an extension of Q-Learning where a neural network is used to approximate the Q-values. It combines reinforcement learning with deep learning, \n",
    "allowing the agent to handle complex environments with high-dimensional state spaces.\n",
    "\"\"\"\n",
    "class DeepQNetwork(nn.Module):\n",
    "\n",
    "    layers: nn.Sequential\n",
    "\n",
    "    def __init__(\n",
    "            self: DeepQNetwork,\n",
    "            state_space: int,\n",
    "            action_space: int,\n",
    "    ):\n",
    "        super(DeepQNetwork, self).__init__()\n",
    "\n",
    "        self.fc1 = nn.Linear(state_space, 512)\n",
    "        self.fc2 = nn.Linear(512, 256)\n",
    "        self.fc3 = nn.Linear(256, 64)\n",
    "        self.fc4 = nn.Linear(64, action_space)\n",
    "\n",
    "    def forward(self, x):\n",
    "        x = torch.relu(self.fc1(x))\n",
    "        x = torch.relu(self.fc2(x))\n",
    "        x = torch.relu(self.fc3(x))\n",
    "        x = self.fc4(x)\n",
    "        return x"
   ]
  },
  {
   "cell_type": "code",
   "execution_count": null,
   "metadata": {},
   "outputs": [],
   "source": [
    "class DQNCartPoleAgent:\n",
    "\n",
    "    env: gym.Env\n",
    "    state_space: int\n",
    "    action_space: int\n",
    "\n",
    "    def __init__(self):\n",
    "        self.env, self.state_space, self.action_space = load_environment()\n",
    "\n",
    "        # Set the device\n",
    "        self.device = torch.device(\"cuda\" if torch.cuda.is_available() else \"cpu\")\n",
    "        print(f\"Device: {self.device}\")\n",
    "\n",
    "        # Initialize the DQN\n",
    "        self.dpn = DeepQNetwork(self.state_space, self.action_space).to(self.device)\n",
    "\n",
    "        # Initialize training parameters\n",
    "        self.optimizer = optim.RMSprop\n",
    "        self.criterion = nn.MSELoss()\n",
    "        self.memory = deque(maxlen=10000) #buffer memory \n",
    "\n",
    "    def _remember(self, state, action, reward, next_state, done):\n",
    "        self.memory.append((state, action, reward, next_state, done))\n",
    "\n",
    "    def _act(self, state, epsilon):\n",
    "        \"\"\"\n",
    "        Choose an action using an epsilon-greedy policy\n",
    "        \"\"\"\n",
    "        if np.random.uniform() < epsilon:\n",
    "            return self.env.action_space.sample()\n",
    "        state = torch.FloatTensor(state).to(self.device)\n",
    "        with torch.no_grad():\n",
    "            q_values = self.dpn(state)\n",
    "            return torch.argmax(q_values).item()\n",
    "\n",
    "    def _replay(self, batch_size, gamma, optimizer):\n",
    "        \"\"\"\n",
    "        Train the DQN using experience replay\n",
    "        \"\"\"\n",
    "        if len(self.memory) < batch_size:\n",
    "            return  # Not enough memory to train\n",
    "\n",
    "        batch = random.sample(self.memory, batch_size)\n",
    "\n",
    "        states, actions, rewards, next_states, dones = zip(*batch)\n",
    "\n",
    "        states = torch.FloatTensor(states).to(self.device)\n",
    "        actions = torch.LongTensor(actions).to(self.device)\n",
    "        rewards = torch.FloatTensor(rewards).to(self.device)\n",
    "        next_states = torch.FloatTensor(next_states).to(self.device)\n",
    "        dones = torch.BoolTensor(dones).to(self.device)\n",
    "\n",
    "        # Compute the Q-values\n",
    "        q_values = self.dpn(states).gather(1, actions.unsqueeze(1)).squeeze(1)\n",
    "        next_q_values = self.dpn(next_states).max(1).values\n",
    "        target_q_values = rewards + gamma * next_q_values * ~dones\n",
    "\n",
    "        # Compute the loss L = ( Q(s, a) - ( r + gamma max_a' Q'(s', a') ) )^2\n",
    "        loss = self.criterion(q_values, target_q_values.detach())\n",
    "\n",
    "        # Update the DQN\n",
    "        optimizer.zero_grad()\n",
    "        loss.backward()\n",
    "        optimizer.step()\n",
    "\n",
    "    def load(self, path):\n",
    "        \"\"\"\n",
    "        Load the DQN model weights\n",
    "        \"\"\"\n",
    "        self.dpn.load_state_dict(torch.load(path))\n",
    "\n",
    "    def save(self, path):\n",
    "        \"\"\"\n",
    "        Save the DQN model weights\n",
    "        \"\"\"\n",
    "        torch.save(self.dpn.state_dict(), path)\n",
    "\n",
    "    def train(self,\n",
    "              lr, gamma, epsilon, epsilon_min,\n",
    "              n_episodes, batch_size,\n",
    "              train_start):\n",
    "        optimizer = self.optimizer(self.dpn.parameters(), lr=lr)\n",
    "\n",
    "        # rewards = np.zeros(n_episodes)\n",
    "        rewards = []\n",
    "        episode_reward = 0\n",
    "        episode = 0\n",
    "        # for episode in range(n_episodes):\n",
    "        while episode_reward < 1000:\n",
    "            state = self.env.reset()[0]\n",
    "            done = False\n",
    "\n",
    "            episode_reward = 0\n",
    "            while not done:\n",
    "                # Choose an action using an epsilon-greedy policy\n",
    "                action = self._act(state, epsilon)\n",
    "\n",
    "                # Take the action, observe the reward and next state\n",
    "                next_state, reward, terminated, truncated, info = self.env.step(action)\n",
    "                done = terminated\n",
    "\n",
    "                # Penalize the agent for ending the episode early\n",
    "                if terminated:\n",
    "                    reward = -100\n",
    "\n",
    "                # Store the experience in the replay buffer\n",
    "                self._remember(state, action, reward, next_state, done)\n",
    "\n",
    "                # Update the DQN using experience replay\n",
    "                self._replay(batch_size, gamma, optimizer)\n",
    "\n",
    "                state = next_state\n",
    "                episode_reward += reward\n",
    "\n",
    "            # Perform epsilon decay\n",
    "            if epsilon > epsilon_min and len(self.memory) >= train_start:\n",
    "                epsilon = epsilon_decay(epsilon, epsilon_min, lambda e: e * 0.999)\n",
    "\n",
    "            # rewards[episode] = episode_reward\n",
    "            rewards.append(episode_reward)\n",
    "\n",
    "            if episode % 100 == 0:\n",
    "                print(f\"Episode: {episode:5d}, Epsilon: {epsilon:.2f}, Reward: {episode_reward:4.2f}\")\n",
    "            episode += 1\n",
    "\n",
    "        print(\"Training complete with episode reward:\", episode_reward)\n",
    "        return rewards\n",
    "\n",
    "    def test(self, truncate):\n",
    "        env, _, _ = load_environment(training=False)\n",
    "\n",
    "        state = env.reset()[0]\n",
    "        terminated = False\n",
    "        rewards = 0\n",
    "        while not terminated:\n",
    "            env.render()\n",
    "            action = self._act(state, 0)\n",
    "            next_state, reward, terminated, truncated, _ = env.step(action)\n",
    "            state = next_state\n",
    "            rewards += reward\n",
    "\n",
    "            if rewards >= truncate:\n",
    "                print(f\"Truncate at {truncate} steps\")\n",
    "                break\n",
    "\n",
    "            if rewards % (truncate // 10) == 0:\n",
    "                print(f\"Reached {rewards} steps\")\n",
    "\n",
    "        print(\"Test complete with reward:\", rewards)\n",
    "        env.close()\n",
    "\n",
    "    def close(self):\n",
    "        self.env.close()"
   ]
  },
  {
   "cell_type": "code",
   "execution_count": 13,
   "metadata": {},
   "outputs": [
    {
     "name": "stdout",
     "output_type": "stream",
     "text": [
      "Device: cpu\n",
      "Episode:     0, Epsilon: 1.00, Reward: -82.00\n"
     ]
    },
    {
     "name": "stderr",
     "output_type": "stream",
     "text": [
      "/tmp/ipykernel_90490/3023974129.py:66: UserWarning: Creating a tensor from a list of numpy.ndarrays is extremely slow. Please consider converting the list to a single numpy.ndarray with numpy.array() before converting to a tensor. (Triggered internally at ../torch/csrc/utils/tensor_new.cpp:278.)\n",
      "  states = torch.FloatTensor(states).to(self.device)\n"
     ]
    },
    {
     "name": "stdout",
     "output_type": "stream",
     "text": [
      "Episode:   100, Epsilon: 0.94, Reward: -88.00\n",
      "Episode:   200, Epsilon: 0.85, Reward: -86.00\n",
      "Episode:   300, Epsilon: 0.77, Reward: -83.00\n",
      "Episode:   400, Epsilon: 0.70, Reward: -79.00\n",
      "Episode:   500, Epsilon: 0.63, Reward: -84.00\n",
      "Episode:   600, Epsilon: 0.57, Reward: 26.00\n",
      "Episode:   700, Epsilon: 0.52, Reward: -78.00\n",
      "Episode:   800, Epsilon: 0.47, Reward: -77.00\n",
      "Episode:   900, Epsilon: 0.42, Reward: -48.00\n",
      "Episode:  1000, Epsilon: 0.38, Reward: 69.00\n",
      "Episode:  1100, Epsilon: 0.35, Reward: -83.00\n",
      "Episode:  1200, Epsilon: 0.31, Reward: -87.00\n",
      "Episode:  1300, Epsilon: 0.28, Reward: -74.00\n",
      "Episode:  1400, Epsilon: 0.26, Reward: -77.00\n",
      "Episode:  1500, Epsilon: 0.23, Reward: -53.00\n",
      "Episode:  1600, Epsilon: 0.21, Reward: 101.00\n",
      "Episode:  1700, Epsilon: 0.19, Reward: -6.00\n",
      "Episode:  1800, Epsilon: 0.17, Reward: -48.00\n",
      "Episode:  1900, Epsilon: 0.16, Reward: -38.00\n",
      "Episode:  2000, Epsilon: 0.14, Reward: -54.00\n",
      "Training complete with episode reward: 2596.0\n"
     ]
    },
    {
     "data": {
      "image/png": "[encoded data removed]",
      "text/plain": [
       "<Figure size 640x480 with 1 Axes>"
      ]
     },
     "metadata": {},
     "output_type": "display_data"
    }
   ],
   "source": [
    "agent = DQNCartPoleAgent()\n",
    "\n",
    "rewards = agent.train(\n",
    "    lr=0.00025,\n",
    "    gamma=0.95,\n",
    "    epsilon=1.0,\n",
    "    epsilon_min=0.001,\n",
    "    n_episodes=2000,\n",
    "    batch_size=64,\n",
    "    train_start=1000\n",
    ")\n",
    "\n",
    "# Save the model\n",
    "agent.save(\"output/cart_pole_dqn.pth\")\n",
    "\n",
    "# Plot the rewards\n",
    "import matplotlib.pyplot as plt\n",
    "\n",
    "plt.plot(rewards)\n",
    "plt.xlabel(\"Episode\")\n",
    "plt.ylabel(\"Reward\")\n",
    "plt.title(\"Cart Pole with DQN\")\n",
    "plt.savefig(\"output/cart_pole_rewards.png\")\n",
    "\n",
    "agent.close()"
   ]
  },
  {
   "cell_type": "code",
   "execution_count": 14,
   "metadata": {},
   "outputs": [
    {
     "name": "stdout",
     "output_type": "stream",
     "text": [
      "Device: cpu\n"
     ]
    },
    {
     "name": "stderr",
     "output_type": "stream",
     "text": [
      "/tmp/ipykernel_90490/3023974129.py:92: FutureWarning: You are using `torch.load` with `weights_only=False` (the current default value), which uses the default pickle module implicitly. It is possible to construct malicious pickle data which will execute arbitrary code during unpickling (See https://github.com/pytorch/pytorch/blob/main/SECURITY.md#untrusted-models for more details). In a future release, the default value for `weights_only` will be flipped to `True`. This limits the functions that could be executed during unpickling. Arbitrary objects will no longer be allowed to be loaded via this mode unless they are explicitly allowlisted by the user via `torch.serialization.add_safe_globals`. We recommend you start setting `weights_only=True` for any use case where you don't have full control of the loaded file. Please open an issue on GitHub for any issues related to this experimental feature.\n",
      "  self.dpn.load_state_dict(torch.load(path))\n"
     ]
    },
    {
     "name": "stdout",
     "output_type": "stream",
     "text": [
      "Reached 20.0 steps\n",
      "Reached 40.0 steps\n",
      "Reached 60.0 steps\n",
      "Reached 80.0 steps\n",
      "Reached 100.0 steps\n",
      "Reached 120.0 steps\n",
      "Reached 140.0 steps\n",
      "Reached 160.0 steps\n",
      "Reached 180.0 steps\n",
      "Truncate at 200 steps\n",
      "Test complete with reward: 200.0\n"
     ]
    }
   ],
   "source": [
    "agent = DQNCartPoleAgent()\n",
    "\n",
    "agent.load(\"output/cart_pole_dqn.pth\")\n",
    "agent.test(200)\n",
    "agent.close()"
   ]
  }
 ],
 "metadata": {
  "kernelspec": {
   "display_name": ".sys_venv",
   "language": "python",
   "name": "python3"
  },
  "language_info": {
   "codemirror_mode": {
    "name": "ipython",
    "version": 3
   },
   "file_extension": ".py",
   "mimetype": "text/x-python",
   "name": "python",
   "nbconvert_exporter": "python",
   "pygments_lexer": "ipython3",
   "version": "3.10.12"
  }
 },
 "nbformat": 4,
 "nbformat_minor": 2
}
